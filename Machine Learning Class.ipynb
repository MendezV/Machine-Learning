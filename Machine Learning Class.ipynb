{
 "metadata": {
  "name": "",
  "signature": "sha256:5b3f2a78be8ce35944ba91d4614f0d2df3132c5fad1582c975a57f6b47065c90"
 },
 "nbformat": 3,
 "nbformat_minor": 0,
 "worksheets": [
  {
   "cells": [
    {
     "cell_type": "code",
     "collapsed": false,
     "input": [
      "%pylab inline"
     ],
     "language": "python",
     "metadata": {},
     "outputs": []
    },
    {
     "cell_type": "code",
     "collapsed": false,
     "input": [
      "import seaborn as sns\n",
      "from sklearn.linear_model import LinearRegression\n",
      "import numpy as np"
     ],
     "language": "python",
     "metadata": {},
     "outputs": []
    },
    {
     "cell_type": "code",
     "collapsed": false,
     "input": [
      "mean_n = [0, 1]\n",
      "cov_n = [[1, 0], [0, 1]]  # diagonal covariance\n",
      "x_n, y_n = np.random.multivariate_normal(mean_n, cov_n, 10).T\n",
      "mean_b = [1, 0]\n",
      "cov_b = [[1, 0], [0, 1]]  # diagonal covariance\n",
      "x_b, y_b = np.random.multivariate_normal(mean_n, cov_n, 10).T\n",
      "plt.scatter(x_b, y_b,color='blue')\n",
      "plt.scatter(x_n, y_n,color='orange')\n",
      "plt.axis('equal')\n",
      "plt.show()"
     ],
     "language": "python",
     "metadata": {},
     "outputs": []
    },
    {
     "cell_type": "code",
     "collapsed": false,
     "input": [
      "#set de entrenamiento\n",
      "\n",
      "cov_f = [[1.0/5.0, 0], [0, 1.0/5.0]]\n",
      "btsx=[]\n",
      "btsy=[]\n",
      "ntsx=[]\n",
      "ntsy=[]\n",
      "X_1=[]\n",
      "y_1=[]\n",
      "for i in range(0,200):\n",
      "    mean_nf=[random.choice(x_n),random.choice(y_n)]\n",
      "    mean_bf=[random.choice(x_b),random.choice(y_b)]\n",
      "    a=np.random.multivariate_normal(mean_bf, cov_f, 1).T[0][0]\n",
      "    b=np.random.multivariate_normal(mean_bf, cov_f, 1).T[1][0]\n",
      "    c=np.random.multivariate_normal(mean_nf, cov_f, 1).T[0][0]\n",
      "    d=np.random.multivariate_normal(mean_nf, cov_f, 1).T[1][0]\n",
      "    btsx.append(a)\n",
      "    btsy.append(b)\n",
      "    ntsx.append(c)\n",
      "    ntsy.append(d)\n",
      "    X_1.append([a,b])\n",
      "    y_1.append(0)\n",
      "    X_1.append([c,d])\n",
      "    y_1.append(1)\n",
      "plt.scatter(btsx, btsy,color='blue')\n",
      "plt.scatter(ntsx, ntsy,color='orange')\n",
      "plt.axis('equal')\n",
      "plt.show()"
     ],
     "language": "python",
     "metadata": {},
     "outputs": []
    },
    {
     "cell_type": "code",
     "collapsed": false,
     "input": [
      "#set test\n",
      "cov_f = [[1.0/5.0, 0], [0, 1.0/5.0]]\n",
      "btx=[]\n",
      "bty=[]\n",
      "ntx=[]\n",
      "nty=[]\n",
      "\n",
      "for i in range(0,10000):\n",
      "    mean_nf=[random.choice(x_n),random.choice(y_n)]\n",
      "    mean_bf=[random.choice(x_b),random.choice(y_b)]\n",
      "    btx.append(np.random.multivariate_normal(mean_bf, cov_f, 1).T[0])\n",
      "    bty.append(np.random.multivariate_normal(mean_bf, cov_f, 1).T[1])\n",
      "    ntx.append(np.random.multivariate_normal(mean_nf, cov_f, 1).T[0])\n",
      "    nty.append(np.random.multivariate_normal(mean_nf, cov_f, 1).T[1])\n",
      "    \n",
      "    \n",
      "    \n",
      "plt.scatter(btx, bty,color='blue')\n",
      "plt.scatter(ntx, nty,color='orange')\n",
      "plt.axis('equal')\n",
      "plt.show()"
     ],
     "language": "python",
     "metadata": {},
     "outputs": []
    },
    {
     "cell_type": "code",
     "collapsed": false,
     "input": [
      "y=array(y_1)\n",
      "X=array(X_1)"
     ],
     "language": "python",
     "metadata": {},
     "outputs": []
    },
    {
     "cell_type": "code",
     "collapsed": false,
     "input": [
      "from matplotlib.colors import ListedColormap\n",
      "from sklearn import neighbors, datasets\n",
      "\n",
      "n_neighbors = 15\n",
      "\n",
      "# Create color maps\n",
      "cmap_light = ListedColormap(['#FFAAAA', '#AAFFAA', '#AAAAFF'])\n",
      "cmap_bold = ListedColormap(['#FF0000', '#00FF00', '#0000FF'])\n",
      "\n",
      "for weights in ['uniform', 'distance']:\n",
      "    # we create an instance of Neighbours Classifier and fit the data.\n",
      "    clf = neighbors.KNeighborsClassifier(n_neighbors, weights=weights)\n",
      "    clf.fit(X, y)\n",
      "\n",
      "    # Plot the decision boundary. For that, we will assign a color to each\n",
      "    # point in the mesh [x_min, m_max]x[y_min, y_max].\n",
      "    x_min, x_max = X[:, 0].min() - 1, X[:, 0].max() + 1\n",
      "    y_min, y_max = X[:, 1].min() - 1, X[:, 1].max() + 1\n",
      "    xx, yy = np.meshgrid(np.arange(x_min, x_max, h),\n",
      "                         np.arange(y_min, y_max, h))\n",
      "    Z = clf.predict(np.c_[xx.ravel(), yy.ravel()])\n",
      "\n",
      "    # Put the result into a color plot\n",
      "    Z = Z.reshape(xx.shape)\n",
      "    plt.figure()\n",
      "    plt.pcolormesh(xx, yy, Z, cmap=cmap_light)\n",
      "\n",
      "    # Plot also the training points\n",
      "    plt.scatter(X[:, 0], X[:, 1], c=y, cmap=cmap_bold)\n",
      "    plt.xlim(xx.min(), xx.max())\n",
      "    plt.ylim(yy.min(), yy.max())\n",
      "    plt.title(\"3-Class classification (k = %i, weights = '%s')\"\n",
      "              % (n_neighbors, weights))\n",
      "\n",
      "plt.show()\n"
     ],
     "language": "python",
     "metadata": {},
     "outputs": []
    },
    {
     "cell_type": "code",
     "collapsed": false,
     "input": [],
     "language": "python",
     "metadata": {},
     "outputs": []
    },
    {
     "cell_type": "code",
     "collapsed": false,
     "input": [],
     "language": "python",
     "metadata": {},
     "outputs": []
    },
    {
     "cell_type": "code",
     "collapsed": false,
     "input": [],
     "language": "python",
     "metadata": {},
     "outputs": []
    }
   ],
   "metadata": {}
  }
 ]
}